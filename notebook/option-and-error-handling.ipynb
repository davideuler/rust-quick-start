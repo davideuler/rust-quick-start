{
 "cells": [
  {
   "cell_type": "code",
   "execution_count": 3,
   "id": "71e3d713-6493-4a5c-834b-5c26e0a5e2fe",
   "metadata": {},
   "outputs": [
    {
     "name": "stdout",
     "output_type": "stream",
     "text": [
      "Some(\"banana\")\n",
      "Some(\"coconut\")\n",
      "None\n"
     ]
    },
    {
     "data": {
      "text/plain": [
       "()"
      ]
     },
     "execution_count": 3,
     "metadata": {},
     "output_type": "execute_result"
    }
   ],
   "source": [
    "// https://learn.microsoft.com/zh-cn/training/modules/rust-error-handling/1-introduction\n",
    "\n",
    "// 使用 panic! 处理无法恢复的错误。\n",
    "// 如果值是可选的或缺少值不是一种错误情况，请使用 Option 枚举。\n",
    "// 当可能出现问题并且调用方必须处理问题时，请使用 Result 枚举。\n",
    "\n",
    "// 尝试访问 数组/Vector 的不存在的索引会导致程序 panic，\n",
    "// 但你可以通过使用 Vec::get 方法（该方法返回 Option 类型，而不是 panic）来避免这种情况。 \n",
    "// 如果该值存在于指定的索引处，系统会将其包装在 Option::Some(value) 变体中。 \n",
    "// 如果索引超出界限，则它会改为返回 Option::None 值\n",
    "\n",
    "{\n",
    "let fruits = vec![\"banana\", \"apple\", \"coconut\", \"orange\", \"strawberry\"];\n",
    "\n",
    "// pick the first item:\n",
    "let first = fruits.get(0);\n",
    "println!(\"{:?}\", first);\n",
    "\n",
    "// pick the third item:\n",
    "let third = fruits.get(2);\n",
    "println!(\"{:?}\", third);\n",
    "\n",
    "// pick the 99th item, which is non-existent:\n",
    "let non_existent = fruits.get(99); // get() 返回的 Option<T> 类型\n",
    "println!(\"{:?}\", non_existent);\n",
    "}"
   ]
  },
  {
   "cell_type": "code",
   "execution_count": 8,
   "id": "9e86db92-228c-42dc-8bd3-571154f437ea",
   "metadata": {},
   "outputs": [
    {
     "name": "stdout",
     "output_type": "stream",
     "text": [
      "fox jumps over the dog\n"
     ]
    },
    {
     "data": {
      "text/plain": [
       "()"
      ]
     },
     "execution_count": 8,
     "metadata": {},
     "output_type": "execute_result"
    }
   ],
   "source": [
    "let sentence = \"The fox jumps over the dog\";\n",
    "let index = sentence.find(\"fox\"); // find() 返回的也是 Option<T> 类型\n",
    "\n",
    "// let words_after_fox = &sentence[index..]; // Error: Can't index str with Option<usize>\n",
    "\n",
    "if let Some(fox) = index {\n",
    "  let words_after_fox = &sentence[fox..];\n",
    "  println!(\"{}\", words_after_fox);\n",
    "}\n"
   ]
  },
  {
   "cell_type": "code",
   "execution_count": 9,
   "id": "8907f6ef-444b-4913-9eee-1e1f8c4c2d23",
   "metadata": {},
   "outputs": [
    {
     "name": "stderr",
     "output_type": "stream",
     "text": [
      "thread '<unnamed>' panicked at 'Farewell!', src/lib.rs:126:5\n",
      "stack backtrace:\n",
      "   0: rust_begin_unwind\n",
      "             at /rustc/897e37553bba8b42751c67658967889d11ecd120/library/std/src/panicking.rs:584:5\n",
      "   1: core::panicking::panic_fmt\n",
      "             at /rustc/897e37553bba8b42751c67658967889d11ecd120/library/core/src/panicking.rs:142:14\n",
      "   2: <unknown>\n",
      "   3: <unknown>\n",
      "   4: evcxr::runtime::Runtime::run_loop\n",
      "   5: evcxr::runtime::runtime_hook\n",
      "   6: evcxr_jupyter::main\n",
      "note: Some details are omitted, run with `RUST_BACKTRACE=full` for a verbose backtrace.\n"
     ]
    }
   ],
   "source": [
    "{\n",
    "    panic!(\"Farewell!\");\n",
    "}"
   ]
  },
  {
   "cell_type": "code",
   "execution_count": null,
   "id": "d1f0150f-2b86-4487-95a0-fdeb08267df3",
   "metadata": {},
   "outputs": [],
   "source": []
  }
 ],
 "metadata": {
  "kernelspec": {
   "display_name": "Rust",
   "language": "rust",
   "name": "rust"
  },
  "language_info": {
   "codemirror_mode": "rust",
   "file_extension": ".rs",
   "mimetype": "text/rust",
   "name": "Rust",
   "pygment_lexer": "rust",
   "version": ""
  }
 },
 "nbformat": 4,
 "nbformat_minor": 5
}
